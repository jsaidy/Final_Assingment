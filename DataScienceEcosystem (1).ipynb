{
 "cells": [
  {
   "cell_type": "markdown",
   "id": "0e13e052",
   "metadata": {},
   "source": [
    "# Data Science Tool and Ecosystem"
   ]
  },
  {
   "cell_type": "markdown",
   "id": "56dbc2c2",
   "metadata": {},
   "source": [
    "In this Notebook, Data Science tools and Ecosystem are summarized. "
   ]
  },
  {
   "cell_type": "markdown",
   "id": "76e365ac",
   "metadata": {},
   "source": [
    "__Objectives:__\n",
    "\n",
    "* Some of the popular languages that Data Scientists Use\n",
    "* Some of the commonly use libraries by the Data Scientists\n",
    "* How to evaluate arithmetic operations in Notebook in python\n",
    "* how to Include comments in Python code\n",
    "* recaps of all the basic tools in Data Science Ecosystem"
   ]
  },
  {
   "cell_type": "markdown",
   "id": "4fb06496",
   "metadata": {},
   "source": [
    "* Some of the popular languages that Data Scientist use are:\n",
    "\n",
    " 1. Python\n",
    " 2. Scala\n",
    " 3. Julia\n",
    " 4. R\n",
    " 5. Ruby\n",
    " 6. Node.js\n",
    " 7. Go"
   ]
  },
  {
   "cell_type": "markdown",
   "id": "90888e28",
   "metadata": {},
   "source": [
    "* Some of the commonly used libraries used by Data Scientists include:\n",
    "\n",
    "1. Numpy\n",
    "2. Matplotlib\n",
    "3. Seaborn\n",
    "4. TensorFlow\n",
    "5. Keras\n",
    "6. Pandas"
   ]
  },
  {
   "cell_type": "markdown",
   "id": "103c737d",
   "metadata": {},
   "source": [
    " ##### The table below contains some Data Sccience Tools: \n",
    "\n",
    "| Data Science Tools |\n",
    "|--------------------|\n",
    "| Jupyter Notebooks |\n",
    "| Zeppelin Notebooks |\n",
    "| R Studio's |\n",
    "    \n",
    " "
   ]
  },
  {
   "cell_type": "markdown",
   "id": "cf259279",
   "metadata": {},
   "source": [
    "### Below are a few examples of evaluating arithmetic expressions in Python"
   ]
  },
  {
   "cell_type": "code",
   "execution_count": 2,
   "id": "1afac592",
   "metadata": {
    "scrolled": true
   },
   "outputs": [
    {
     "data": {
      "text/plain": [
       "17"
      ]
     },
     "execution_count": 2,
     "metadata": {},
     "output_type": "execute_result"
    }
   ],
   "source": [
    "# This a simple arithmetic expression to mutiply then add integers \n",
    "\n",
    "(3 * 4) + 5"
   ]
  },
  {
   "cell_type": "code",
   "execution_count": 3,
   "id": "24a44b3b",
   "metadata": {},
   "outputs": [
    {
     "data": {
      "text/plain": [
       "3.3333333333333335"
      ]
     },
     "execution_count": 3,
     "metadata": {},
     "output_type": "execute_result"
    }
   ],
   "source": [
    "# This will convert 200 minutes to hours by diving by 60\n",
    "\n",
    "(200 / 60)"
   ]
  },
  {
   "cell_type": "markdown",
   "id": "5a063219",
   "metadata": {},
   "source": [
    "## Author:\n",
    "\n",
    "JERREH SAIDY"
   ]
  }
 ],
 "metadata": {
  "kernelspec": {
   "display_name": "Python 3 (ipykernel)",
   "language": "python",
   "name": "python3"
  },
  "language_info": {
   "codemirror_mode": {
    "name": "ipython",
    "version": 3
   },
   "file_extension": ".py",
   "mimetype": "text/x-python",
   "name": "python",
   "nbconvert_exporter": "python",
   "pygments_lexer": "ipython3",
   "version": "3.10.9"
  }
 },
 "nbformat": 4,
 "nbformat_minor": 5
}
